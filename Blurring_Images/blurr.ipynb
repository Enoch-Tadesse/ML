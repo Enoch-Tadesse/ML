{
 "cells": [
  {
   "cell_type": "code",
   "execution_count": 1,
   "id": "37d7ab2f-b46e-445b-a395-9ba44e882400",
   "metadata": {},
   "outputs": [],
   "source": [
    "import numpy as np\n",
    "from scipy.ndimage import convolve\n",
    "from PIL import Image as im"
   ]
  },
  {
   "cell_type": "code",
   "execution_count": 2,
   "id": "e63207dc-81c4-4b9e-994f-442f6b6bd552",
   "metadata": {},
   "outputs": [],
   "source": [
    "raw_data = im.open(\"./house.jpg\")\n",
    "colored = np.array(raw_data.convert(\"RGB\"))"
   ]
  },
  {
   "cell_type": "code",
   "execution_count": 9,
   "id": "6cbd79d0-0191-4e6d-bcc6-0525c021a81d",
   "metadata": {},
   "outputs": [],
   "source": [
    "raw_blurred_data = np.zeros_like(colored)\n",
    "kernel = np.full((6,6),1/36)"
   ]
  },
  {
   "cell_type": "code",
   "execution_count": 10,
   "id": "5633b59b-4ba8-47cb-934f-ac2b0d188883",
   "metadata": {},
   "outputs": [],
   "source": [
    "for channel in range(3):\n",
    "    raw_blurred_data[:,:,channel] = convolve(colored[:,:,channel],kernel)"
   ]
  },
  {
   "cell_type": "code",
   "execution_count": 12,
   "id": "5e056b9a-8ca0-482a-bed9-175afd12d602",
   "metadata": {},
   "outputs": [],
   "source": [
    "blurred = im.fromarray(raw_blurred_data)\n",
    "blurred.show()\n",
    "blurred.save(\"./house_blurred.jpg\")"
   ]
  },
  {
   "cell_type": "code",
   "execution_count": null,
   "id": "b80c8b4b-1207-4862-9bb3-5f1f4b57b60d",
   "metadata": {},
   "outputs": [],
   "source": []
  }
 ],
 "metadata": {
  "kernelspec": {
   "display_name": "Python 3 (ipykernel)",
   "language": "python",
   "name": "python3"
  },
  "language_info": {
   "codemirror_mode": {
    "name": "ipython",
    "version": 3
   },
   "file_extension": ".py",
   "mimetype": "text/x-python",
   "name": "python",
   "nbconvert_exporter": "python",
   "pygments_lexer": "ipython3",
   "version": "3.12.5"
  }
 },
 "nbformat": 4,
 "nbformat_minor": 5
}
