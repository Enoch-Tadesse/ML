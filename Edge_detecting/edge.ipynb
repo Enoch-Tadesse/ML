{
 "cells": [
  {
   "cell_type": "code",
   "execution_count": 11,
   "id": "fafec106-2869-44a7-bfc2-e77bfd16f9e9",
   "metadata": {},
   "outputs": [],
   "source": [
    "import numpy as np\n",
    "from PIL import Image as im\n",
    "from scipy.ndimage import convolve"
   ]
  },
  {
   "cell_type": "code",
   "execution_count": 12,
   "id": "fb2a343f-3a55-446e-999a-6ab372030682",
   "metadata": {},
   "outputs": [],
   "source": [
    "raw_data = im.open(\"./selfie.jpg\")\n",
    "grayed = np.array(raw_data.convert('L'))"
   ]
  },
  {
   "cell_type": "code",
   "execution_count": 13,
   "id": "091c76ed-b8ae-4522-be00-c6cea9d43d10",
   "metadata": {},
   "outputs": [],
   "source": [
    "v_kernel = np.array([\n",
    "    [-1,0,1],\n",
    "    [-2,0,2],\n",
    "    [-1,0,1]\n",
    "])\n",
    "h_kernel = np.array([\n",
    "    [-1, -2, -1],\n",
    "    [0, 0, 0],\n",
    "    [1, 2, 1]\n",
    "])"
   ]
  },
  {
   "cell_type": "code",
   "execution_count": 14,
   "id": "1bde48ba-f1b3-4f9c-9b7e-fef649d7b29c",
   "metadata": {},
   "outputs": [],
   "source": [
    "v_processed = np.zeros_like(grayed,dtype=np.uint8)\n",
    "h_processed = np.zeros_like(grayed,dtype=np.uint8)"
   ]
  },
  {
   "cell_type": "code",
   "execution_count": 15,
   "id": "bfc0a4d2-2a17-40d7-a6bb-4a4a3bc5ee9c",
   "metadata": {},
   "outputs": [],
   "source": [
    "v_processed[:,:] = convolve(grayed[:,:],v_kernel)\n",
    "h_processed[:,:] = convolve(grayed[:,:],h_kernel)"
   ]
  },
  {
   "cell_type": "code",
   "execution_count": 16,
   "id": "ddf67714-cb2f-4506-b252-258ca65a692f",
   "metadata": {},
   "outputs": [],
   "source": [
    "final = np.sqrt(np.power(v_processed,2) + np.power(h_processed,2))\n",
    "final = (final/np.max(final)) * 255\n",
    "final = final.astype(np.uint8)"
   ]
  },
  {
   "cell_type": "code",
   "execution_count": 17,
   "id": "1b254266-15f6-4a76-87ff-cfd365e97dfe",
   "metadata": {},
   "outputs": [],
   "source": [
    "img = im.fromarray(final)\n",
    "img.show()"
   ]
  },
  {
   "cell_type": "code",
   "execution_count": null,
   "id": "18fb4df5-b349-4926-aec8-6d84f2bcaed6",
   "metadata": {},
   "outputs": [],
   "source": []
  }
 ],
 "metadata": {
  "kernelspec": {
   "display_name": "Python 3 (ipykernel)",
   "language": "python",
   "name": "python3"
  },
  "language_info": {
   "codemirror_mode": {
    "name": "ipython",
    "version": 3
   },
   "file_extension": ".py",
   "mimetype": "text/x-python",
   "name": "python",
   "nbconvert_exporter": "python",
   "pygments_lexer": "ipython3",
   "version": "3.12.5"
  }
 },
 "nbformat": 4,
 "nbformat_minor": 5
}
